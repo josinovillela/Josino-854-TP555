{
 "cells": [
  {
   "cell_type": "code",
   "execution_count": 1,
   "metadata": {},
   "outputs": [],
   "source": [
    "import numpy as np\n",
    "import matplotlib.pyplot as plt\n",
    "from matplotlib.colors import ListedColormap\n",
    "from sklearn.neighbors import KNeighborsClassifier\n",
    "from sklearn.model_selection import train_test_split\n",
    "from sklearn.metrics import mean_squared_error\n",
    "from sklearn.neighbors import KNeighborsRegressor\n",
    "from sklearn.model_selection import GridSearchCV"
   ]
  },
  {
   "cell_type": "code",
   "execution_count": 2,
   "metadata": {},
   "outputs": [],
   "source": [
    "N = 1000\n",
    "np.random.seed(42)\n",
    "x = np.sort(5 * np.random.rand(N, 1), axis=0)\n",
    "y = np.sin(x).ravel()\n",
    "y_orig = np.sin(x).ravel()\n",
    "\n",
    "# Add noise to targets.\n",
    "y += 0.1*np.random.randn(N)\n",
    "\n",
    "# Split data into train and test subsets.\n",
    "x_train, x_test, y_train, y_test = train_test_split(x, y, test_size=0.2)"
   ]
  },
  {
   "cell_type": "code",
   "execution_count": 3,
   "metadata": {},
   "outputs": [
    {
     "name": "stdout",
     "output_type": "stream",
     "text": [
      "Fitting 5 folds for each of 24 candidates, totalling 120 fits\n"
     ]
    },
    {
     "name": "stderr",
     "output_type": "stream",
     "text": [
      "[Parallel(n_jobs=-1)]: Using backend LokyBackend with 8 concurrent workers.\n",
      "[Parallel(n_jobs=-1)]: Done   2 tasks      | elapsed:    3.1s\n",
      "[Parallel(n_jobs=-1)]: Done   9 tasks      | elapsed:    3.2s\n",
      "[Parallel(n_jobs=-1)]: Done  16 tasks      | elapsed:    3.3s\n",
      "[Parallel(n_jobs=-1)]: Done  25 tasks      | elapsed:    3.3s\n",
      "[Parallel(n_jobs=-1)]: Batch computation too fast (0.1796s.) Setting batch_size=2.\n"
     ]
    },
    {
     "name": "stdout",
     "output_type": "stream",
     "text": [
      "{'n_neighbors': 20, 'weights': 'uniform'}\n",
      "0.9796209553627315\n"
     ]
    },
    {
     "name": "stderr",
     "output_type": "stream",
     "text": [
      "[Parallel(n_jobs=-1)]: Done  34 tasks      | elapsed:    3.4s\n",
      "[Parallel(n_jobs=-1)]: Batch computation too fast (0.1240s.) Setting batch_size=6.\n",
      "[Parallel(n_jobs=-1)]: Done  48 tasks      | elapsed:    3.4s\n",
      "[Parallel(n_jobs=-1)]: Done  66 out of 120 | elapsed:    3.5s remaining:    2.8s\n",
      "[Parallel(n_jobs=-1)]: Done  92 out of 120 | elapsed:    3.5s remaining:    1.0s\n",
      "[Parallel(n_jobs=-1)]: Done 120 out of 120 | elapsed:    3.5s finished\n"
     ]
    }
   ],
   "source": [
    "param_grid = [{'weights': ['uniform', 'distance'], 'n_neighbors': [1, 2, 3, 4, 5, 6, 7, 8, 9, 10, 15, 20]}]\n",
    "knn = KNeighborsRegressor()\n",
    "\n",
    "clf = GridSearchCV(knn, param_grid, cv=5, verbose=10, n_jobs=-1)\n",
    "clf.fit(x_train, y_train)\n",
    "\n",
    "print(clf.best_params_)\n",
    "print(clf.best_score_)"
   ]
  },
  {
   "cell_type": "code",
   "execution_count": 6,
   "metadata": {},
   "outputs": [
    {
     "data": {
      "text/plain": [
       "Text(0.5, 1.0, \"KNeighborsRegressor (k = 20, weights = 'uniform')\")"
      ]
     },
     "execution_count": 6,
     "metadata": {},
     "output_type": "execute_result"
    },
    {
     "data": {
      "image/png": "[encoded data removed]",
      "text/plain": [
       "<Figure size 432x288 with 1 Axes>"
      ]
     },
     "metadata": {
      "needs_background": "light"
     },
     "output_type": "display_data"
    }
   ],
   "source": [
    "knn = KNeighborsRegressor(n_neighbors=20, weights='uniform')\n",
    "knn.fit(x_train, y_train)\n",
    "y_pred = knn.predict(x)\n",
    "\n",
    "plt.scatter(x, y, color='green', label='noisy data')\n",
    "plt.plot(x, y_orig, color='red', label='original data')\n",
    "plt.plot(x, y_pred, color='blue', label='prediction')\n",
    "plt.axis('tight')\n",
    "plt.legend()\n",
    "plt.title(\"KNeighborsRegressor (k = %i, weights = '%s')\" % (20, 'uniform'))"
   ]
  },
  {
   "cell_type": "code",
   "execution_count": 8,
   "metadata": {},
   "outputs": [
    {
     "name": "stdout",
     "output_type": "stream",
     "text": [
      "MSE T = 0.09598216330992831\n",
      "MSE V = 0.10331973237783179\n"
     ]
    }
   ],
   "source": [
    "error_train = np.sqrt(mean_squared_error(y_train, knn.predict(x_train)))\n",
    "error_test = np.sqrt(mean_squared_error(y_test, knn.predict(x_test)))\n",
    "\n",
    "print(\"MSE T = \" + str(error_train))\n",
    "print(\"MSE V = \" + str(error_test))"
   ]
  },
  {
   "cell_type": "code",
   "execution_count": null,
   "metadata": {},
   "outputs": [],
   "source": []
  }
 ],
 "metadata": {
  "kernelspec": {
   "display_name": "Python 3",
   "language": "python",
   "name": "python3"
  },
  "language_info": {
   "codemirror_mode": {
    "name": "ipython",
    "version": 3
   },
   "file_extension": ".py",
   "mimetype": "text/x-python",
   "name": "python",
   "nbconvert_exporter": "python",
   "pygments_lexer": "ipython3",
   "version": "3.7.4"
  }
 },
 "nbformat": 4,
 "nbformat_minor": 2
}
