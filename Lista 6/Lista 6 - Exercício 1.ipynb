{
 "cells": [
  {
   "cell_type": "code",
   "execution_count": 8,
   "metadata": {},
   "outputs": [],
   "source": [
    "#Importo as bibliotecas necessárias\n",
    "import numpy as np\n",
    "import matplotlib.pyplot as plt\n",
    "from matplotlib.colors import ListedColormap\n",
    "from sklearn.neighbors import KNeighborsClassifier\n",
    "from sklearn.model_selection import train_test_split\n",
    "from sklearn.datasets import make_blobs\n",
    "from sklearn.metrics import confusion_matrix, accuracy_score, roc_curve, auc, classification_report\n",
    "import seaborn as sns"
   ]
  },
  {
   "cell_type": "code",
   "execution_count": 9,
   "metadata": {},
   "outputs": [],
   "source": [
    "#Criação dos dados utilizados de treinamento e validação\n",
    "x_train = [ [4, 7], [5, 6], [3, 4], [6, 9], [6, 4], [7, 6], [8, 0], [10, 10], [12, 3] ]\n",
    "y_train = [ [0], [0], [0], [0], [1], [1], [1], [1], [1] ]\n",
    "\n",
    "amostras = 9\n",
    "classes = 2\n",
    "\n",
    "x_val = [ [6, 5] ]"
   ]
  },
  {
   "cell_type": "code",
   "execution_count": 10,
   "metadata": {},
   "outputs": [],
   "source": [
    "#A distância de Minkowski, com p = 2 e x1, x2\n",
    "# dist = sqrt( (x1 - y1)^2 + (x2 - y2)^2 )\n",
    "\n",
    "def minkowski (x1, x2):\n",
    "    Eq_dis = np.sqrt( np.square(x1[0]-x2[0]) + np.square( x1[1]-x2[1]) )\n",
    "    return Eq_dis"
   ]
  },
  {
   "cell_type": "code",
   "execution_count": 11,
   "metadata": {},
   "outputs": [
    {
     "name": "stdout",
     "output_type": "stream",
     "text": [
      "[1. 2.]\n"
     ]
    }
   ],
   "source": [
    "#P/ k = 3\n",
    "\n",
    "k = 3\n",
    "distance_calc = [(0, 0)]*amostras\n",
    "\n",
    "for i in range(amostras):\n",
    "    \n",
    "    #Calculado a distância entre o valor da amostra de treinamento e de validação\n",
    "    distance = minkowski(x_train[i], x_val[0]) \n",
    "    \n",
    "    distance_calc[i] = (distance, i)\n",
    "\n",
    "#Distâncias organizadas em ordem crescente    \n",
    "distance_calc.sort(key=lambda tup: tup[0])\n",
    "\n",
    "#inicialização do vetor \n",
    "count = np.zeros(classes)\n",
    "\n",
    "for i in range(k):\n",
    "    count[ y_train[ distance_calc[i][1]] ] = count[ y_train[distance_calc[i][1]] ]+1\n",
    "\n",
    "print(count)"
   ]
  },
  {
   "cell_type": "code",
   "execution_count": 12,
   "metadata": {},
   "outputs": [
    {
     "name": "stdout",
     "output_type": "stream",
     "text": [
      "[3. 2.]\n"
     ]
    }
   ],
   "source": [
    "#P/ k = 5\n",
    "\n",
    "k = 5\n",
    "distance_calc = [(0, 0)]*amostras\n",
    "\n",
    "for i in range(amostras):\n",
    "    \n",
    "    #Calculado a distância entre o valor da amostra de treinamento e de validação\n",
    "    distance = minkowski(x_train[i], x_val[0]) \n",
    "    \n",
    "    distance_calc[i] = (distance, i)\n",
    "\n",
    "#Distâncias organizadas em ordem crescente    \n",
    "distance_calc.sort(key=lambda tup: tup[0])\n",
    "\n",
    "#inicialização do vetor \n",
    "count = np.zeros(classes)\n",
    "\n",
    "for i in range(k):\n",
    "    count[ y_train[ distance_calc[i][1]] ] = count[ y_train[distance_calc[i][1]] ]+1\n",
    "\n",
    "print(count)"
   ]
  },
  {
   "cell_type": "code",
   "execution_count": 18,
   "metadata": {},
   "outputs": [
    {
     "name": "stdout",
     "output_type": "stream",
     "text": [
      "[1.]\n",
      "[0.]\n"
     ]
    }
   ],
   "source": [
    "x = np.zeros((amostras, 2))\n",
    "y = np.zeros((amostras, 1))\n",
    "\n",
    "for i in range(amostras):\n",
    "    x[i] = x_train[i]\n",
    "    y[i] = y_train[i]\n",
    "    \n",
    "y = y.ravel()\n",
    "\n",
    "for k in [3, 5]:\n",
    "    clf = KNeighborsClassifier(k, weights='uniform')\n",
    "    clf.fit(x, y)\n",
    "\n",
    "    Z = clf.predict(x_val)\n",
    "    print(Z)"
   ]
  },
  {
   "cell_type": "code",
   "execution_count": null,
   "metadata": {},
   "outputs": [],
   "source": []
  }
 ],
 "metadata": {
  "kernelspec": {
   "display_name": "Python 3",
   "language": "python",
   "name": "python3"
  },
  "language_info": {
   "codemirror_mode": {
    "name": "ipython",
    "version": 3
   },
   "file_extension": ".py",
   "mimetype": "text/x-python",
   "name": "python",
   "nbconvert_exporter": "python",
   "pygments_lexer": "ipython3",
   "version": "3.7.4"
  }
 },
 "nbformat": 4,
 "nbformat_minor": 2
}
