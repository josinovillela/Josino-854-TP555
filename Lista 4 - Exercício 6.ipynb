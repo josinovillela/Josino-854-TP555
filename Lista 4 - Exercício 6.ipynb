{
 "cells": [
  {
   "cell_type": "code",
   "execution_count": 4,
   "metadata": {},
   "outputs": [],
   "source": [
    "#Importo as bibliotecas necessárias\n",
    "import pandas as pd\n",
    "from sklearn.feature_extraction.text import CountVectorizer\n",
    "from sklearn.model_selection import train_test_split\n",
    "from sklearn import metrics\n",
    "from sklearn.metrics import confusion_matrix\n",
    "from sklearn.metrics import accuracy_score, roc_curve, auc\n",
    "import seaborn as sns\n",
    "import matplotlib.pyplot as plt\n",
    "import numpy as np\n",
    "\n",
    "#Biblioteca do Naive Bayes Bernoulli\n",
    "from sklearn.naive_bayes import BernoulliNB"
   ]
  },
  {
   "cell_type": "code",
   "execution_count": 10,
   "metadata": {},
   "outputs": [],
   "source": [
    "#Criação de features e labels\n",
    "x_train = np.array(['free great offer if you join, a great offer for free!',\n",
    "'great offer for free delivery',\n",
    "'uber is promoting a great offer for free',\n",
    "'try uber for free for your 1st ride',\n",
    "'earn your uber 10 credit for free by applying for the uber visa credit card',\n",
    "'uber receipt'])\n",
    "\n",
    "x_test = np.array(['Moonnight Trial', 'Limited offer: Free & Great Deal'])\n",
    "\n",
    "y_train = np.array(['spam','spam','spam','ham','ham','ham'])"
   ]
  },
  {
   "cell_type": "code",
   "execution_count": 11,
   "metadata": {},
   "outputs": [],
   "source": [
    "#O texto é convertido em uma matrix (representação numérica) binária (com a presença ou não de tal elemento)\n",
    "vect = CountVectorizer(binary=True)\n",
    "\n",
    "#O vocabulário da YRL é aprendido e convertido em uma matriz.\n",
    "x_train_dtm = vect.fit_transform(x_train)"
   ]
  },
  {
   "cell_type": "code",
   "execution_count": 12,
   "metadata": {},
   "outputs": [],
   "source": [
    "#Instancio o objeto Bernoulli NB\n",
    "nb = BernoulliNB(binarize=None)"
   ]
  },
  {
   "cell_type": "code",
   "execution_count": 13,
   "metadata": {},
   "outputs": [
    {
     "data": {
      "text/plain": [
       "BernoulliNB(alpha=1.0, binarize=None, class_prior=None, fit_prior=True)"
      ]
     },
     "execution_count": 13,
     "metadata": {},
     "output_type": "execute_result"
    }
   ],
   "source": [
    "#O classificador Bernoulli NB é treinado com os exemplos e labels de treinamento.\n",
    "nb.fit(x_train_dtm, y_train)"
   ]
  },
  {
   "cell_type": "code",
   "execution_count": 17,
   "metadata": {},
   "outputs": [],
   "source": [
    "#Crio matriz com a presenta ou não de determinada palavra\n",
    "x_test_dtm = vect.transform(x_test)\n",
    "\n",
    "#Validação do classificador\n",
    "y_pred_class = nb.predict(x_test_dtm)"
   ]
  },
  {
   "cell_type": "code",
   "execution_count": 19,
   "metadata": {},
   "outputs": [
    {
     "data": {
      "text/plain": [
       "array(['ham', 'spam'], dtype='<U4')"
      ]
     },
     "execution_count": 19,
     "metadata": {},
     "output_type": "execute_result"
    }
   ],
   "source": [
    "y_pred_class"
   ]
  },
  {
   "cell_type": "code",
   "execution_count": null,
   "metadata": {},
   "outputs": [],
   "source": [
    "'''\n",
    "As duas mensagens de teste que foram providas no enunciado do exercício, pertencem as classes ham e spam,\n",
    "respectivamente.\n",
    "'''"
   ]
  }
 ],
 "metadata": {
  "kernelspec": {
   "display_name": "Python 3",
   "language": "python",
   "name": "python3"
  },
  "language_info": {
   "codemirror_mode": {
    "name": "ipython",
    "version": 3
   },
   "file_extension": ".py",
   "mimetype": "text/x-python",
   "name": "python",
   "nbconvert_exporter": "python",
   "pygments_lexer": "ipython3",
   "version": "3.7.4"
  }
 },
 "nbformat": 4,
 "nbformat_minor": 2
}
