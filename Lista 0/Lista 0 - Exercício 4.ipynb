{
 "cells": [
  {
   "cell_type": "code",
   "execution_count": 1,
   "metadata": {},
   "outputs": [],
   "source": [
    "import matplotlib\n",
    "import numpy as np\n",
    "import matplotlib.pyplot as plt\n",
    "\n",
    "%matplotlib inline"
   ]
  },
  {
   "cell_type": "code",
   "execution_count": 12,
   "metadata": {},
   "outputs": [],
   "source": [
    "x = np.random.randn(1000,1)\n",
    "y = np.random.randn(1000,1)\n",
    "z = x + y"
   ]
  },
  {
   "cell_type": "code",
   "execution_count": 14,
   "metadata": {},
   "outputs": [
    {
     "name": "stderr",
     "output_type": "stream",
     "text": [
      "C:\\Users\\josin\\Anaconda3\\lib\\site-packages\\ipykernel_launcher.py:1: MatplotlibDeprecationWarning: \n",
      "The 'normed' kwarg was deprecated in Matplotlib 2.1 and will be removed in 3.1. Use 'density' instead.\n",
      "  \"\"\"Entry point for launching an IPython kernel.\n"
     ]
    },
    {
     "data": {
      "text/plain": [
       "(array([0.01237179, 0.01237179, 0.        , 0.03711538, 0.        ,\n",
       "        0.        , 0.03711538, 0.01237179, 0.02474358, 0.        ,\n",
       "        0.06185896, 0.        , 0.01237179, 0.02474358, 0.07423075,\n",
       "        0.02474358, 0.04948717, 0.03711538, 0.02474358, 0.06185896,\n",
       "        0.06185896, 0.06185896, 0.1484615 , 0.07423075, 0.09897434,\n",
       "        0.07423075, 0.07423075, 0.02474358, 0.13608971, 0.08660254,\n",
       "        0.11134613, 0.19794867, 0.29692301, 0.12371792, 0.18557688,\n",
       "        0.1608333 , 0.17320509, 0.25980763, 0.21032046, 0.18557688,\n",
       "        0.25980763, 0.17320509, 0.25980763, 0.3092948 , 0.22269225,\n",
       "        0.32166659, 0.22269225, 0.19794867, 0.37115376, 0.27217942,\n",
       "        0.28455121, 0.35878197, 0.19794867, 0.25980763, 0.25980763,\n",
       "        0.23506405, 0.27217942, 0.27217942, 0.21032046, 0.32166659,\n",
       "        0.23506405, 0.21032046, 0.24743584, 0.25980763, 0.23506405,\n",
       "        0.19794867, 0.1484615 , 0.18557688, 0.13608971, 0.17320509,\n",
       "        0.18557688, 0.21032046, 0.11134613, 0.09897434, 0.13608971,\n",
       "        0.11134613, 0.09897434, 0.07423075, 0.08660254, 0.09897434,\n",
       "        0.07423075, 0.02474358, 0.02474358, 0.03711538, 0.06185896,\n",
       "        0.03711538, 0.06185896, 0.04948717, 0.02474358, 0.02474358,\n",
       "        0.03711538, 0.        , 0.02474358, 0.03711538, 0.        ,\n",
       "        0.02474358, 0.01237179, 0.01237179, 0.01237179, 0.01237179]),\n",
       " array([-4.11236282, -4.03153378, -3.95070475, -3.86987571, -3.78904668,\n",
       "        -3.70821765, -3.62738861, -3.54655958, -3.46573054, -3.38490151,\n",
       "        -3.30407247, -3.22324344, -3.1424144 , -3.06158537, -2.98075633,\n",
       "        -2.8999273 , -2.81909826, -2.73826923, -2.65744019, -2.57661116,\n",
       "        -2.49578212, -2.41495309, -2.33412405, -2.25329502, -2.17246598,\n",
       "        -2.09163695, -2.01080791, -1.92997888, -1.84914984, -1.76832081,\n",
       "        -1.68749178, -1.60666274, -1.52583371, -1.44500467, -1.36417564,\n",
       "        -1.2833466 , -1.20251757, -1.12168853, -1.0408595 , -0.96003046,\n",
       "        -0.87920143, -0.79837239, -0.71754336, -0.63671432, -0.55588529,\n",
       "        -0.47505625, -0.39422722, -0.31339818, -0.23256915, -0.15174011,\n",
       "        -0.07091108,  0.00991796,  0.09074699,  0.17157603,  0.25240506,\n",
       "         0.33323409,  0.41406313,  0.49489216,  0.5757212 ,  0.65655023,\n",
       "         0.73737927,  0.8182083 ,  0.89903734,  0.97986637,  1.06069541,\n",
       "         1.14152444,  1.22235348,  1.30318251,  1.38401155,  1.46484058,\n",
       "         1.54566962,  1.62649865,  1.70732769,  1.78815672,  1.86898576,\n",
       "         1.94981479,  2.03064383,  2.11147286,  2.1923019 ,  2.27313093,\n",
       "         2.35395996,  2.434789  ,  2.51561803,  2.59644707,  2.6772761 ,\n",
       "         2.75810514,  2.83893417,  2.91976321,  3.00059224,  3.08142128,\n",
       "         3.16225031,  3.24307935,  3.32390838,  3.40473742,  3.48556645,\n",
       "         3.56639549,  3.64722452,  3.72805356,  3.80888259,  3.88971163,\n",
       "         3.97054066]),\n",
       " <a list of 100 Patch objects>)"
      ]
     },
     "execution_count": 14,
     "metadata": {},
     "output_type": "execute_result"
    },
    {
     "data": {
      "image/png": "[encoded data removed]",
      "text/plain": [
       "<Figure size 432x288 with 1 Axes>"
      ]
     },
     "metadata": {
      "needs_background": "light"
     },
     "output_type": "display_data"
    }
   ],
   "source": [
    "matplotlib.pyplot.hist(z, bins = 100, color = 'b', normed= True)"
   ]
  },
  {
   "cell_type": "code",
   "execution_count": null,
   "metadata": {},
   "outputs": [],
   "source": []
  }
 ],
 "metadata": {
  "kernelspec": {
   "display_name": "Python 3",
   "language": "python",
   "name": "python3"
  },
  "language_info": {
   "codemirror_mode": {
    "name": "ipython",
    "version": 3
   },
   "file_extension": ".py",
   "mimetype": "text/x-python",
   "name": "python",
   "nbconvert_exporter": "python",
   "pygments_lexer": "ipython3",
   "version": "3.7.4"
  }
 },
 "nbformat": 4,
 "nbformat_minor": 2
}
