{
 "cells": [
  {
   "cell_type": "code",
   "execution_count": 1,
   "metadata": {},
   "outputs": [],
   "source": [
    "#Libraries\n",
    "import numpy as np\n",
    "import matplotlib.pyplot as plt\n",
    "from mpl_toolkits.mplot3d import Axes3D\n",
    "from matplotlib import cm\n",
    "\n",
    "# magic Jupyter function that allows plots to be interactive.\n",
    "%matplotlib notebook"
   ]
  },
  {
   "cell_type": "code",
   "execution_count": 2,
   "metadata": {},
   "outputs": [],
   "source": [
    "#Número de exemplos\n",
    "M = 100\n",
    "\n",
    "#Criação de vetor coluna com 1's\n",
    "x0 = np.ones((M,1))\n",
    "\n",
    "#Distribuição aleatória uniformemente distribuída de -5 a 5\n",
    "x1 = 5*np.random.randn(M,1)\n",
    "x2 = 5*np.random.randn(M,1)\n",
    "\n",
    "#Distribuição aleatória Gaussiana, média 0 e variância 10\n",
    "w = np.random.normal(0, 10, (M,1))\n",
    "\n",
    "#Criação de labels\n",
    "y = 3*x0 + 1.5*x1 + 2.3*x2*x2 + w"
   ]
  },
  {
   "cell_type": "code",
   "execution_count": 3,
   "metadata": {},
   "outputs": [],
   "source": [
    "# Concatenate both column vectors.\n",
    "X = np.c_[x0, x1, x2]\n",
    "\n",
    "# Closed-form solution.\n",
    "a_opt = np.linalg.pinv(np.transpose(X).dot(X)).dot(np.transpose(X).dot(y))\n",
    "yhat = a_opt[0, 0]*x0 + a_opt[1, 0]*x1 + a_opt[2, 0]*x2*x2\n",
    "Joptimum = (1/M)*np.sum(np.power((y - yhat), 2) )"
   ]
  },
  {
   "cell_type": "code",
   "execution_count": 7,
   "metadata": {},
   "outputs": [],
   "source": [
    "# Batch gradient descent solution.\n",
    "\n",
    "# learning rate.\n",
    "alpha = 0.03\n",
    "# Maximum number of iterations.\n",
    "n_iterations = 1000\n",
    "\n",
    "# Random initialization of parameters.\n",
    "a = np.zeros((3,1))\n",
    "a[0] = -10;\n",
    "a[1] = -10;\n",
    "a[2] = -10;\n",
    "\n",
    "# Create vector for parameter history.\n",
    "a_hist = np.zeros((3, n_iterations+1))\n",
    "# Initialize history vector.\n",
    "a_hist[0, 0] = a[0]\n",
    "a_hist[1, 0] = a[1]\n",
    "a_hist[2, 0] = a[2]\n",
    "\n",
    "# Create array for storing error values.\n",
    "Jgd = np.zeros(n_iterations+1)\n",
    "\n",
    "Jgd[0] = (1/M)*sum(np.power(y - X.dot(a), 2))\n",
    "\n",
    "# Batch gradient-descent loop.\n",
    "iteration = 0\n",
    "error = 1\n",
    "grad_hist = np.zeros((3, n_iterations))\n",
    "\n",
    "#while iteration < n_iterations and error > 0.001:a\n",
    "while iteration < n_iterations:\n",
    "    \n",
    "    gradients = -2/M * X.T.dot(y - X.dot(a))\n",
    "    \n",
    "    grad_hist[0, iteration] = gradients[0]\n",
    "    grad_hist[1, iteration] = gradients[1]\n",
    "    grad_hist[2, iteration] = gradients[2]\n",
    "    \n",
    "    a = a - alpha * gradients\n",
    "    \n",
    "    a_hist[0, iteration+1] = a[0]\n",
    "    a_hist[1, iteration+1] = a[1]\n",
    "    a_hist[2, iteration+1] = a[2]\n",
    "    \n",
    "    Jgd[iteration+1] = (1/M)*sum(np.power( (y - X.dot(a)) , 2))\n",
    "    error = np.abs(Jgd[iteration+1] - Jgd[iteration])\n",
    "    iteration = iteration + 1"
   ]
  },
  {
   "cell_type": "code",
   "execution_count": 8,
   "metadata": {},
   "outputs": [
    {
     "data": {
      "image/png": "[encoded data removed]",
      "text/plain": [
       "<Figure size 504x504 with 1 Axes>"
      ]
     },
     "metadata": {
      "needs_background": "light"
     },
     "output_type": "display_data"
    },
    {
     "data": {
      "text/plain": [
       "<Figure size 432x288 with 0 Axes>"
      ]
     },
     "metadata": {},
     "output_type": "display_data"
    }
   ],
   "source": [
    "fig = plt.figure(figsize=(7,7))\n",
    "plt.plot(np.arange(0, iteration), Jgd[0:iteration])\n",
    "plt.xlim((0, iteration))\n",
    "plt.yscale('log')\n",
    "plt.xlabel('Iteration')\n",
    "plt.ylabel('$J_e$')\n",
    "plt.title('Error vs. Iteration number')\n",
    "plt.show()\n",
    "\n",
    "plt.savefig(\"error_vs_iteration_bgd.png\", dpi=600)"
   ]
  },
  {
   "cell_type": "code",
   "execution_count": 9,
   "metadata": {},
   "outputs": [
    {
     "name": "stdout",
     "output_type": "stream",
     "text": [
      "a1_opt: 71.37453107688425\n",
      "a2_opt: 3.262636896832518\n",
      "a2_opt: -5.184140093247399\n",
      "a1_gd: 71.3745310768842\n",
      "a2_gd: 3.26263689683252\n",
      "a2_gd: -5.184140093247402\n"
     ]
    }
   ],
   "source": [
    "print('a1_opt: ' + str(a_opt[0, 0]))\n",
    "print('a2_opt: ' + str(a_opt[1, 0]))\n",
    "print('a2_opt: ' + str(a_opt[2, 0]))\n",
    "\n",
    "print('a1_gd: ' + str(a[0, 0]))\n",
    "print('a2_gd: ' + str(a[1, 0]))\n",
    "print('a2_gd: ' + str(a[2, 0]))"
   ]
  },
  {
   "cell_type": "code",
   "execution_count": null,
   "metadata": {},
   "outputs": [],
   "source": []
  }
 ],
 "metadata": {
  "kernelspec": {
   "display_name": "Python 3",
   "language": "python",
   "name": "python3"
  },
  "language_info": {
   "codemirror_mode": {
    "name": "ipython",
    "version": 3
   },
   "file_extension": ".py",
   "mimetype": "text/x-python",
   "name": "python",
   "nbconvert_exporter": "python",
   "pygments_lexer": "ipython3",
   "version": "3.7.4"
  }
 },
 "nbformat": 4,
 "nbformat_minor": 2
}
