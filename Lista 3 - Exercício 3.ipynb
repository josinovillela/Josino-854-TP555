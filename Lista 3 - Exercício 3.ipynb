{
 "cells": [
  {
   "cell_type": "code",
   "execution_count": 1,
   "metadata": {},
   "outputs": [],
   "source": [
    "#Importo as bibliotecas necessárias\n",
    "\n",
    "import numpy as np\n",
    "from sklearn.preprocessing import StandardScaler\n",
    "from sklearn.model_selection import train_test_split\n",
    "import matplotlib as mpl\n",
    "import matplotlib.pyplot as plt\n",
    "\n",
    "%matplotlib inline"
   ]
  },
  {
   "cell_type": "code",
   "execution_count": 2,
   "metadata": {},
   "outputs": [],
   "source": [
    "#Considero o bias (elemento multiplicado por a0)\n",
    "include_bias = True\n",
    "\n",
    "#É definida a ordem do polinômio a ser utilizado\n",
    "model_order = 30\n",
    "\n",
    "#Passo de aprendizado\n",
    "alpha = 0.04\n",
    "\n",
    "#Número de iterações\n",
    "n_epochs = 1000"
   ]
  },
  {
   "cell_type": "code",
   "execution_count": 3,
   "metadata": {},
   "outputs": [],
   "source": [
    "#Features criadas, função target e sua versão ruidosa.\n",
    "\n",
    "#Número de exemplos\n",
    "M = 100 \n",
    "\n",
    "#Features criadas\n",
    "x = 6*np.random.rand(M, 1) - 3\n",
    "\n",
    "#Função target, com e sem ruído\n",
    "y = 2 + x + 0.5*x**2 + x**3\n",
    "y_noisy = y + np.random.randn(M, 1)\n",
    "\n",
    "\n",
    "#Features e função target para teste\n",
    "Mtest = 100\n",
    "x_test = np.linspace(-3, 3, Mtest).reshape(Mtest, 1)\n",
    "y_test = 2 + x_test + 0.5*x_test**2 + x_test**3 + np.random.randn(Mtest, 1)\n"
   ]
  },
  {
   "cell_type": "code",
   "execution_count": 5,
   "metadata": {},
   "outputs": [
    {
     "data": {
      "image/png": "[encoded data removed]",
      "text/plain": [
       "<Figure size 288x288 with 1 Axes>"
      ]
     },
     "metadata": {
      "needs_background": "light"
     },
     "output_type": "display_data"
    }
   ],
   "source": [
    "#Gráfico com função target e versão ruidosa\n",
    "fig = plt.figure(figsize=(4,4))\n",
    "plt.plot(x, y, 'o', label='Função target')\n",
    "plt.plot(x, y_noisy, 'x', label='Função target com ruído')\n",
    "plt.xlabel('$x$', fontsize=14)\n",
    "plt.ylabel('$y$', fontsize=14)\n",
    "plt.legend()\n",
    "plt.grid()\n",
    "#Show the plot.\n",
    "plt.show()"
   ]
  },
  {
   "cell_type": "code",
   "execution_count": 7,
   "metadata": {},
   "outputs": [],
   "source": [
    "#Crio uma função para calcular o erro quadrático médio\n",
    "def mse(X, a, y, M):\n",
    "    Jgd = (1/M)*sum(np.power((y - X.dot(a)), 2))\n",
    "    return Jgd\n"
   ]
  },
  {
   "cell_type": "code",
   "execution_count": 18,
   "metadata": {},
   "outputs": [],
   "source": [
    "#Crio função para executar o algoritmo do batch\n",
    "def batch(X_train, y_train, X_val, y_val, X_test, y_test, model_order, alpha, n_epochs, a_init):\n",
    "    \n",
    "    #Defini o ponto inicial para a melhor época, melhor modelo, norma e mínimo valor do erro\n",
    "    best_epoch = None\n",
    "    best_model = None\n",
    "    norm_hist = np.zeros(n_epochs+1)\n",
    "    minimum_val_error = float(\"inf\")\n",
    "    \n",
    "    #Inicialização aleatória dos pesos\n",
    "    a = a_init\n",
    "\n",
    "    #Vetores para armazenar o histórico dos valores dos erros do GD\n",
    "    Jgd_train = np.zeros(n_epochs+1)\n",
    "    Jgd_val   = np.zeros(n_epochs+1)\n",
    "    Jgd_test  = np.zeros(n_epochs+1)\n",
    "    \n",
    "    #São calculados os erros iniciais.\n",
    "    Jgd_train[0] = mse(X_train, a, y_train, len(y_train))\n",
    "    Jgd_test[0]  = mse(X_test, a, y_test, len(y_test))\n",
    "    Jgd_val[0]   = mse(X_val, a, y_val, len(y_val))\n",
    "    \n",
    "    #Calculado a norma inicial para os pesos inicializados de forma aleatória\n",
    "    norm_hist[0] = np.linalg.norm(a)\n",
    "    \n",
    "    #Inicializo as variáveis utilizadas no loop\n",
    "    iteration = 0\n",
    "    error = 1\n",
    "    \n",
    "    while iteration < n_epochs:\n",
    "        \n",
    "        #É calculado o gradiente para o conjunto de treinamento\n",
    "        gradients = -2/len(y_train)*X_train.T.dot(y_train - X_train.dot(a))\n",
    "        \n",
    "        #O valos dos parâmetros a é calculado\n",
    "        a = a - alpha * gradients\n",
    "        \n",
    "        #É calculado o valor do erro para o conjunto de treinamento\n",
    "        Jgd_train[iteration+1] = mse(X_train, a, y_train, len(y_train))\n",
    "        \n",
    "        #É calculado o erro entre duas iterações consecutivas\n",
    "        error = np.abs(Jgd_train[iteration+1] - Jgd_train[iteration])\n",
    "        \n",
    "        #É calculado o erro para os conjuntos de validação e teste\n",
    "        Jgd_val[iteration+1] = mse(X_val, a, y_val, len(y_val))\n",
    "        Jgd_test[iteration+1] = mse(X_test, a, y_test, len(y_test))\n",
    "        \n",
    "        #É calculado a norma para a iteração e seu valor é agregado ao vetor\n",
    "        norm_hist[iteration+1] = np.linalg.norm(a[1:])\n",
    "        \n",
    "        #Condição para testar e armazenar o melhor modelo\n",
    "        if Jgd_val[iteration+1] < minimum_val_error:\n",
    "            minimum_val_error = Jgd_val[iteration+1]\n",
    "            best_epoch = iteration\n",
    "            best_model = a\n",
    "        \n",
    "        iteration = iteration + 1\n",
    "        \n",
    "    return Jgd_train, Jgd_val, Jgd_test, minimum_val_error, best_epoch, best_model, norm_hist, a"
   ]
  },
  {
   "cell_type": "code",
   "execution_count": 19,
   "metadata": {},
   "outputs": [],
   "source": [
    "#Divisão dos conjuntos de treinamento e validação (70% treinamento e 30% validação)\n",
    "x_train, x_val, y_train, y_val = train_test_split(x, y_noisy, test_size=0.7, random_state=42)"
   ]
  },
  {
   "cell_type": "code",
   "execution_count": 20,
   "metadata": {},
   "outputs": [],
   "source": [
    "#Concatenar os vetores coluna com as features de treinamento elevadas a ordem dos polinômios\n",
    "X_train = np.ones((len(y_train),1))\n",
    "for i in range(1, model_order+1):\n",
    "    X_train = np.c_[X_train, np.power(x_train, i)]\n",
    "\n",
    "#Escalonamento de features para o conjunto de treinamento\n",
    "scaler = StandardScaler()\n",
    "X_train = np.c_[np.ones((len(y_train),1)), scaler.fit_transform(X_train[:,1:])]\n",
    "\n",
    "#Concatenar os vetores coluna com as features de treinamento elevadas a ordem dos polinômios\n",
    "X_val = np.ones((len(y_val),1))\n",
    "for i in range(1, model_order+1):\n",
    "    X_val = np.c_[X_val, np.power(x_val, i)]\n",
    "\n",
    "#Escalonamento de features para as do conjunto de validação\n",
    "X_val = np.c_[np.ones((len(y_val),1)), scaler.transform(X_val[:,1:])]\n",
    "\n",
    "#Concatenar os vetores coluna com as features de teste elevadas a ordem dos polinômios\n",
    "X_test = np.ones((len(y_test),1))\n",
    "for i in range(1, model_order+1):\n",
    "    X_test = np.c_[X_test, np.power(x_test, i)]\n",
    "\n",
    "#Escalonamento de features para as de teste\n",
    "X_test = np.c_[np.ones((len(y_test),1)), scaler.transform(X_test[:,1:])]\n",
    "\n",
    "#Inicialização de pesos\n",
    "a_init = np.random.randn(model_order+1, 1)\n",
    "if(0):\n",
    "    a_init = np.zeros((model_order+1, 1))\n",
    "    a_init[0] = 4\n",
    "    a_init[1] = 4\n",
    "    a_init[2] = 4\n",
    "    a_init[3] = 4"
   ]
  },
  {
   "cell_type": "code",
   "execution_count": 21,
   "metadata": {},
   "outputs": [
    {
     "name": "stdout",
     "output_type": "stream",
     "text": [
      "best_epoch: 220\n",
      "minimum_val_error: 1.9145657533522094\n",
      "norma: 0.2535719163278706\n",
      "norma: 0.5\n"
     ]
    }
   ],
   "source": [
    "#É executado o algoritmo do batch (a função do batch é executada)\n",
    "Jgd_train, Jgd_val, Jgd_test, minimum_val_error, best_epoch, best_model, norm_hist, a = batch(X_train, y_train, X_val, y_val, X_test, y_test, model_order, alpha, n_epochs, a_init)\n",
    "\n",
    "a_opt = [1, 0.5, 1]\n",
    "print('best_epoch:',best_epoch)\n",
    "print('minimum_val_error:',minimum_val_error)\n",
    "print('norma:', np.linalg.norm(best_model[1:])/30)\n",
    "print('norma:', np.linalg.norm(a_opt)/3)"
   ]
  },
  {
   "cell_type": "code",
   "execution_count": 23,
   "metadata": {},
   "outputs": [
    {
     "data": {
      "image/png": "[encoded data removed]",
      "text/plain": [
       "<Figure size 360x360 with 1 Axes>"
      ]
     },
     "metadata": {
      "needs_background": "light"
     },
     "output_type": "display_data"
    }
   ],
   "source": [
    "#Erros de treinamento e validação vs. número de épocas\n",
    "fig = plt.figure(figsize=(5,5))\n",
    "\n",
    "plt.plot(range(0, n_epochs+1), Jgd_train, \"g-\", linewidth=3, label=\"Conjunto de treinamento\")\n",
    "plt.plot(range(0, n_epochs+1), Jgd_val, \"b--\", linewidth=3, label=\"Conjunto de validação\")\n",
    "plt.yscale('log')\n",
    "plt.legend(loc=\"upper right\", fontsize=14)\n",
    "plt.xlabel('# épocas', fontsize=14)\n",
    "plt.ylabel(\"Erro\", fontsize=14)\n",
    "plt.grid()\n",
    "plt.show()"
   ]
  },
  {
   "cell_type": "code",
   "execution_count": null,
   "metadata": {},
   "outputs": [],
   "source": []
  }
 ],
 "metadata": {
  "kernelspec": {
   "display_name": "Python 3",
   "language": "python",
   "name": "python3"
  },
  "language_info": {
   "codemirror_mode": {
    "name": "ipython",
    "version": 3
   },
   "file_extension": ".py",
   "mimetype": "text/x-python",
   "name": "python",
   "nbconvert_exporter": "python",
   "pygments_lexer": "ipython3",
   "version": "3.7.4"
  }
 },
 "nbformat": 4,
 "nbformat_minor": 2
}
