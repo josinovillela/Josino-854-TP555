{
 "cells": [
  {
   "cell_type": "code",
   "execution_count": 2,
   "metadata": {},
   "outputs": [],
   "source": [
    "# Import all necessary libraries.\n",
    "import numpy as np\n",
    "from scipy.special import erfc\n",
    "from sklearn.model_selection import train_test_split\n",
    "from sklearn.naive_bayes import GaussianNB\n",
    "import matplotlib.pyplot as plt"
   ]
  },
  {
   "cell_type": "code",
   "execution_count": 3,
   "metadata": {},
   "outputs": [],
   "source": [
    "# Number of QPSK symbols to be transmitted.\n",
    "N = 1000000"
   ]
  },
  {
   "cell_type": "code",
   "execution_count": 4,
   "metadata": {},
   "outputs": [],
   "source": [
    "# Instantiate a Gaussian naive Bayes classifier for each one of the parts of a QPSK symbol.\n",
    "gnb_re = GaussianNB()\n",
    "gnb_im = GaussianNB()"
   ]
  },
  {
   "cell_type": "code",
   "execution_count": 28,
   "metadata": {},
   "outputs": [
    {
     "name": "stdout",
     "output_type": "stream",
     "text": [
      "Es/N0 dB: -2\n",
      "Es/N0 dB: 0\n",
      "Es/N0 dB: 2\n",
      "Es/N0 dB: 4\n",
      "Es/N0 dB: 6\n",
      "Es/N0 dB: 8\n",
      "Es/N0 dB: 10\n",
      "Es/N0 dB: 12\n",
      "Es/N0 dB: 14\n",
      "Es/N0 dB: 16\n",
      "Es/N0 dB: 18\n",
      "Es/N0 dB: 20\n"
     ]
    }
   ],
   "source": [
    "# Create Es/N0 vector.\n",
    "EsN0dB = np.arange(-2,22,2)\n",
    "\n",
    "ser_simu = np.zeros(len(EsN0dB))\n",
    "ser_theo = np.zeros(len(EsN0dB))\n",
    "\n",
    "for idx in range(0,len(EsN0dB)):\n",
    "    \n",
    "    print('Es/N0 dB:', EsN0dB[idx])\n",
    "    \n",
    "    EsN0Lin = 10.0**(-(EsN0dB[idx]/10.0))\n",
    "    \n",
    "    # Generate N QPSK symbols.\n",
    "    ip =(2.0 * (np.random.rand(N, 1) >= 0.5) - 1.0) + 1j*(2.0 * (np.random.rand(N, 1) >= 0.5) - 1.0)\n",
    "    \n",
    "    # Normalization of energy to 1.\n",
    "    s = (1/np.sqrt(2))*ip;\n",
    "    \n",
    "    # Generate noise vector. \n",
    "    # Divide by two once the theoretical ber uses a complex Normal pdf with variance of each part = 1/2.\n",
    "    noise = np.sqrt(1.0/2.0)*(np.random.randn(N, 1) + 1j*np.random.randn(N, 1))\n",
    "    \n",
    "    # Pass symbols through AWGN channel.\n",
    "    y = s + np.sqrt(EsN0Lin)*noise\n",
    "    \n",
    "    #Antes de testar e validar o modelo, os exemplos e labels devem ser divididos em conjunto de treinamento e\n",
    "    #validação. Como há parte real e im. Ambas partes devem ser divididas. (https://docs.python.org/2/library/cmath.html)\n",
    "    \n",
    "    x_test_real, x_train_real, y_test_real, y_train_real = train_test_split(ip.real, y.real)\n",
    "    \n",
    "    x_test_j, x_train_j, y_test_j, y_train_j = train_test_split(ip.imag, y.imag)\n",
    "    \n",
    "    # Fit models for real part.\n",
    "    gnb_re.fit(y_train_real, x_train_real.ravel())\n",
    "    \n",
    "    # Fit model for imaginary parts.\n",
    "    gnb_im.fit(y_train_j, x_train_j.ravel())\n",
    "    \n",
    "    # Prediction for real part.\n",
    "    detected_ip_re = gnb_re.predict(y_test_real)\n",
    "    detected_ip_re = detected_ip_re.reshape(len(y_test_real), 1)\n",
    "    \n",
    "    # Prediction for imaginary part.\n",
    "    detected_ip_im = gnb_im.predict(y_test_j)\n",
    "    detected_ip_im = detected_ip_im.reshape(len(y_test_j), 1)    \n",
    "        \n",
    "    # Simulated QPSK BER.\n",
    "    error_re = (x_test_real != detected_ip_re)\n",
    "    error_im = (x_test_j != detected_ip_im)\n",
    "    error = 0;\n",
    "    for i in range(0, len(x_test_real)): \n",
    "        if(error_re[i]==True or error_im[i]==True): \n",
    "            error = error + 1\n",
    "    \n",
    "    ser_simu[idx] = 1.0 * error / len(x_test_real)\n",
    "    \n",
    "    # Theoretical BPSK BER.    \n",
    "    ser_theo[idx] = erfc( np.sqrt(  0.5*(10.0**(EsN0dB[idx]/10.0))   ) ) - (1/4)*(erfc(np.sqrt(0.5*(10.0**(EsN0dB[idx]/10.0)))))**2.0;"
   ]
  },
  {
   "cell_type": "code",
   "execution_count": 29,
   "metadata": {},
   "outputs": [
    {
     "data": {
      "text/plain": [
       "array([3.81758667e-01, 2.91730667e-01, 1.97341333e-01, 1.09509333e-01,\n",
       "       4.58946667e-02, 1.20266667e-02, 1.47333333e-03, 7.46666667e-05,\n",
       "       1.33333333e-06, 0.00000000e+00, 0.00000000e+00, 0.00000000e+00])"
      ]
     },
     "execution_count": 29,
     "metadata": {},
     "output_type": "execute_result"
    }
   ],
   "source": [
    "ser_simu"
   ]
  },
  {
   "cell_type": "code",
   "execution_count": 31,
   "metadata": {},
   "outputs": [
    {
     "data": {
      "image/png": "[encoded data removed]",
      "text/plain": [
       "<Figure size 504x504 with 1 Axes>"
      ]
     },
     "metadata": {
      "needs_background": "light"
     },
     "output_type": "display_data"
    }
   ],
   "source": [
    "#Es/N0 vs. SER teórica e simulada\n",
    "fig = plt.figure(figsize=(7,7))\n",
    "\n",
    "plt.plot(EsN0dB, ser_theo, label='theoretical')\n",
    "plt.plot(EsN0dB, ser_simu, 'ro', label='simulated')\n",
    "\n",
    "plt.xscale('linear')\n",
    "plt.yscale('log')\n",
    "\n",
    "plt.xlabel('Es/N0 [dB]')\n",
    "plt.ylabel('SER')\n",
    "\n",
    "plt.grid(True)\n",
    "\n",
    "plt.title('Detecção QPSK')\n",
    "\n",
    "plt.legend()\n",
    "\n",
    "\n",
    "plt.show()"
   ]
  },
  {
   "cell_type": "code",
   "execution_count": null,
   "metadata": {},
   "outputs": [],
   "source": [
    "'''\n",
    "C) Sim. A curva simulada se aproxima da curva teórica da SER.\n",
    "\n",
    "D)Se tratando de símbolos com diferentes probabilidades, ML não é equivalente a MAP. A equação que maximiza o numera-\n",
    "dor, é a mesma para ML e MAP, somente se os símbolos são equiprováveis.\n",
    "'''"
   ]
  }
 ],
 "metadata": {
  "kernelspec": {
   "display_name": "Python 3",
   "language": "python",
   "name": "python3"
  },
  "language_info": {
   "codemirror_mode": {
    "name": "ipython",
    "version": 3
   },
   "file_extension": ".py",
   "mimetype": "text/x-python",
   "name": "python",
   "nbconvert_exporter": "python",
   "pygments_lexer": "ipython3",
   "version": "3.7.4"
  }
 },
 "nbformat": 4,
 "nbformat_minor": 2
}
