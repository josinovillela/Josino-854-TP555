{
 "cells": [
  {
   "cell_type": "code",
   "execution_count": 1,
   "metadata": {},
   "outputs": [],
   "source": [
    "import numpy as np\n",
    "import matplotlib.pyplot as plt\n",
    "from matplotlib.colors import ListedColormap\n",
    "from sklearn.cluster import KMeans\n",
    "from scipy.spatial import distance\n",
    "from scipy.special import erfc"
   ]
  },
  {
   "cell_type": "code",
   "execution_count": 2,
   "metadata": {},
   "outputs": [],
   "source": [
    "#Geração de símbolos qpsk\n",
    "def mod(V):\n",
    "    ip = np.zeros((len(V),1),dtype=complex)\n",
    "    inc = 0\n",
    "    for v in V:\n",
    "        if(v==0):\n",
    "            ip[inc] = -1.0 - 1j*1.0\n",
    "        elif(v==1):\n",
    "            ip[inc] = -1.0 + 1j*1.0\n",
    "        elif(v==2):\n",
    "            ip[inc] = 1.0 - 1j*1.0\n",
    "        else:\n",
    "            ip[inc] = 1.0 + 1j*1.0\n",
    "        inc += 1\n",
    "        \n",
    "    # Normalization of energy to 1.\n",
    "    s = (1/np.sqrt(2))*ip;\n",
    "    return s"
   ]
  },
  {
   "cell_type": "code",
   "execution_count": 6,
   "metadata": {},
   "outputs": [
    {
     "name": "stdout",
     "output_type": "stream",
     "text": [
      "Es/N0 dB: -2\n",
      "# of correct symbols:  0\n",
      "SER: 1.0\n",
      "Es/N0 dB: 0\n",
      "# of correct symbols:  0\n",
      "SER: 1.0\n",
      "Es/N0 dB: 2\n",
      "# of correct symbols:  0\n",
      "SER: 1.0\n",
      "Es/N0 dB: 4\n",
      "# of correct symbols:  0\n",
      "SER: 1.0\n",
      "Es/N0 dB: 6\n",
      "# of correct symbols:  400000\n",
      "SER: 0.0\n",
      "Es/N0 dB: 8\n",
      "# of correct symbols:  400000\n",
      "SER: 0.0\n",
      "Es/N0 dB: 10\n",
      "# of correct symbols:  400000\n",
      "SER: 0.0\n",
      "Es/N0 dB: 12\n",
      "# of correct symbols:  400000\n",
      "SER: 0.0\n",
      "Es/N0 dB: 14\n",
      "# of correct symbols:  400000\n",
      "SER: 0.0\n",
      "Es/N0 dB: 16\n",
      "# of correct symbols:  400000\n",
      "SER: 0.0\n",
      "Es/N0 dB: 18\n",
      "# of correct symbols:  400000\n",
      "SER: 0.0\n",
      "Es/N0 dB: 20\n",
      "# of correct symbols:  400000\n",
      "SER: 0.0\n"
     ]
    }
   ],
   "source": [
    "# Number of QPSK symbols to be transmitted.\n",
    "N = 400000\n",
    "S = np.random.randint(0, 4, size=(N, 1))\n",
    "\n",
    "# Create Es/N0 vector.\n",
    "EsN0dB = np.arange(-2,22,2)\n",
    "\n",
    "ser_simu = np.zeros(len(EsN0dB))\n",
    "ser_theo = np.zeros(len(EsN0dB))\n",
    "\n",
    "for idx in range(0,len(EsN0dB)):\n",
    "    \n",
    "    print('Es/N0 dB:', EsN0dB[idx])\n",
    "    \n",
    "    EsN0Lin = 10.0**(-(EsN0dB[idx]/10.0))\n",
    "    noise = np.sqrt(1.0/2.0)*(np.random.randn(N, 1) + 1j*np.random.randn(N, 1))\n",
    "    \n",
    "    sb = mod(S) + (np.sqrt(EsN0Lin) * noise)\n",
    "        \n",
    "    sbr = sb.real\n",
    "    sbi = sb.imag\n",
    "    \n",
    "    stx = np.array(S)\n",
    "         \n",
    "    symb = np.c_[sbr, sbi]\n",
    "        \n",
    "    km = KMeans(n_clusters=4)\n",
    "    y_km = km.fit_predict(symb) \n",
    "    \n",
    "    centroids = km.cluster_centers_\n",
    "    \n",
    "    \n",
    "    \n",
    "    yp = mod(y_km)\n",
    "        \n",
    "    ypr = yp.real\n",
    "    ypi = yp.imag\n",
    "    \n",
    "    Yp = np.c_[ypr, ypi]\n",
    "    \n",
    "    ds = []\n",
    "    \n",
    "    for i in range(0, N):        \n",
    "        for j in range(0, len(centroids)):            \n",
    "            ds.append(distance.euclidean(Yp[i], centroids[j]))\n",
    "    \n",
    "    correct = 0\n",
    "    \n",
    "    for i in range(0, len(ds)):\n",
    "        if(ds[i] <= 0.01):\n",
    "            correct = correct + 1\n",
    "    \n",
    "    print('# of correct symbols: ', correct)\n",
    "    \n",
    "    ser_simu[idx] = (N - correct)/N\n",
    "    print ('SER:',ser_simu[idx])\n",
    "    \n",
    "    # Theoretical BPSK BER.    \n",
    "    ser_theo[idx] = erfc( np.sqrt(  0.5*(10.0**(EsN0dB[idx]/10.0))   ) ) - (1/4)*(erfc(np.sqrt(0.5*(10.0**(EsN0dB[idx]/10.0)))))**2.0;"
   ]
  },
  {
   "cell_type": "code",
   "execution_count": 7,
   "metadata": {},
   "outputs": [
    {
     "data": {
      "image/png": "[encoded data removed]",
      "text/plain": [
       "<Figure size 504x504 with 1 Axes>"
      ]
     },
     "metadata": {
      "needs_background": "light"
     },
     "output_type": "display_data"
    }
   ],
   "source": [
    "fig = plt.figure(figsize=(7,7))\n",
    "\n",
    "plt.plot(EsN0dB, ser_theo, label='theoretical')\n",
    "plt.plot(EsN0dB, ser_simu, 'ro', label='simulated')\n",
    "\n",
    "plt.xscale('linear')\n",
    "plt.yscale('log')\n",
    "\n",
    "plt.xlabel('Es/N0 [dB]')\n",
    "plt.ylabel('SER')\n",
    "\n",
    "plt.grid(True)\n",
    "\n",
    "plt.title('Detecção QPSK')\n",
    "\n",
    "plt.legend()\n",
    "\n",
    "\n",
    "plt.show()"
   ]
  },
  {
   "cell_type": "code",
   "execution_count": 8,
   "metadata": {},
   "outputs": [
    {
     "name": "stdout",
     "output_type": "stream",
     "text": [
      "Es/N0:-2 \t- SER: 1.000000e+00\n",
      "Es/N0:0 \t- SER: 1.000000e+00\n",
      "Es/N0:2 \t- SER: 1.000000e+00\n",
      "Es/N0:4 \t- SER: 1.000000e+00\n",
      "Es/N0:6 \t- SER: 0.000000e+00\n",
      "Es/N0:8 \t- SER: 0.000000e+00\n",
      "Es/N0:10 \t- SER: 0.000000e+00\n",
      "Es/N0:12 \t- SER: 0.000000e+00\n",
      "Es/N0:14 \t- SER: 0.000000e+00\n",
      "Es/N0:16 \t- SER: 0.000000e+00\n",
      "Es/N0:18 \t- SER: 0.000000e+00\n",
      "Es/N0:20 \t- SER: 0.000000e+00\n"
     ]
    }
   ],
   "source": [
    "# Print Es/N0 versus BER values.\n",
    "for i in range(0,len(ser_simu)): print('Es/N0:%d \\t- SER: %e' % (EsN0dB[i], ser_simu[i]))"
   ]
  },
  {
   "cell_type": "code",
   "execution_count": null,
   "metadata": {},
   "outputs": [],
   "source": []
  }
 ],
 "metadata": {
  "kernelspec": {
   "display_name": "Python 3",
   "language": "python",
   "name": "python3"
  },
  "language_info": {
   "codemirror_mode": {
    "name": "ipython",
    "version": 3
   },
   "file_extension": ".py",
   "mimetype": "text/x-python",
   "name": "python",
   "nbconvert_exporter": "python",
   "pygments_lexer": "ipython3",
   "version": "3.7.4"
  }
 },
 "nbformat": 4,
 "nbformat_minor": 2
}
