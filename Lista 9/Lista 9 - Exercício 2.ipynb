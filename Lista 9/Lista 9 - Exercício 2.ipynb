{
 "cells": [
  {
   "cell_type": "code",
   "execution_count": 1,
   "metadata": {},
   "outputs": [],
   "source": [
    "from scipy.spatial import distance\n",
    "import numpy as np\n",
    "import matplotlib.pyplot as plt\n",
    "from matplotlib.colors import ListedColormap\n",
    "from sklearn.cluster import KMeans"
   ]
  },
  {
   "cell_type": "markdown",
   "metadata": {},
   "source": [
    "# Cálculo Manual"
   ]
  },
  {
   "cell_type": "code",
   "execution_count": 2,
   "metadata": {},
   "outputs": [],
   "source": [
    "x1 = ([1, 4, 4, 3, 6, 3, 2, 2, 2])\n",
    "x2 = ([4, 3, 5, 6, 7, 3, 5, 2 ,3])\n",
    "\n",
    "#Dados de treinamento (dti)\n",
    "dt1 = (x1[0], x2[0])\n",
    "dt2 = (x1[1], x2[1])\n",
    "dt3 = (x1[2], x2[2])\n",
    "dt4 = (x1[3], x2[3])\n",
    "dt5 = (x1[4], x2[4])\n",
    "dt6 = (x1[5], x2[5])\n",
    "dt7 = (x1[6], x2[6])\n",
    "dt8 = (x1[7], x2[7])\n",
    "dt9 = (x1[8], x2[8])\n",
    "\n",
    "#Centróides (ci)\n",
    "c1 = ([5, 3])\n",
    "c2 = ([1, 3])\n",
    "c3 = ([3, 4])\n",
    "\n",
    "init_clusters = np.array([[5,3], [1,3], [3,4]])"
   ]
  },
  {
   "cell_type": "code",
   "execution_count": 3,
   "metadata": {},
   "outputs": [
    {
     "name": "stdout",
     "output_type": "stream",
     "text": [
      "Distância entre dt1 e c1: 4.123105625617661\n",
      "Distância entre dt1 e c2: 1.0\n",
      "Distância entre dt1 e c3: 2.0\n"
     ]
    }
   ],
   "source": [
    "#Cálculo das distâncias de dt1\n",
    "dt1c1 = distance.euclidean(dt1, c1)\n",
    "print('Distância entre dt1 e c1:', dt1c1)\n",
    "\n",
    "dt1c2 = distance.euclidean(dt1, c2)\n",
    "print('Distância entre dt1 e c2:',dt1c2)\n",
    "\n",
    "dt1c3 = distance.euclidean(dt1, c3)\n",
    "print('Distância entre dt1 e c3:',dt1c3)"
   ]
  },
  {
   "cell_type": "code",
   "execution_count": 4,
   "metadata": {},
   "outputs": [
    {
     "name": "stdout",
     "output_type": "stream",
     "text": [
      "Distância entre dt2 e c1: 1.0\n",
      "Distância entre dt2 e c2: 1.0\n",
      "Distância entre dt2 e c3: 1.4142135623730951\n"
     ]
    }
   ],
   "source": [
    "#Cálculo das distâncias de dt2\n",
    "dt2c1 = distance.euclidean(dt2, c1)\n",
    "print('Distância entre dt2 e c1:', dt2c1)\n",
    "\n",
    "dt2c2 = distance.euclidean(dt1, c2)\n",
    "print('Distância entre dt2 e c2:',dt2c2)\n",
    "\n",
    "dt2c3 = distance.euclidean(dt2, c3)\n",
    "print('Distância entre dt2 e c3:',dt2c3)"
   ]
  },
  {
   "cell_type": "code",
   "execution_count": 5,
   "metadata": {},
   "outputs": [
    {
     "name": "stdout",
     "output_type": "stream",
     "text": [
      "Distância entre dt3 e c1: 2.23606797749979\n",
      "Distância entre dt3 e c2: 3.605551275463989\n",
      "Distância entre dt3 e c3: 1.4142135623730951\n"
     ]
    }
   ],
   "source": [
    "#Cálculo das distâncias de dt3\n",
    "dt3c1 = distance.euclidean(dt3, c1)\n",
    "print('Distância entre dt3 e c1:', dt3c1)\n",
    "\n",
    "dt3c2 = distance.euclidean(dt3, c2)\n",
    "print('Distância entre dt3 e c2:',dt3c2)\n",
    "\n",
    "dt3c3 = distance.euclidean(dt3, c3)\n",
    "print('Distância entre dt3 e c3:',dt3c3)"
   ]
  },
  {
   "cell_type": "code",
   "execution_count": 6,
   "metadata": {},
   "outputs": [
    {
     "name": "stdout",
     "output_type": "stream",
     "text": [
      "Distância entre dt4 e c1: 3.605551275463989\n",
      "Distância entre dt4 e c2: 3.605551275463989\n",
      "Distância entre dt4 e c3: 2.0\n"
     ]
    }
   ],
   "source": [
    "#Cálculo das distâncias de dt4\n",
    "dt4c1 = distance.euclidean(dt4, c1)\n",
    "print('Distância entre dt4 e c1:', dt4c1)\n",
    "\n",
    "dt4c2 = distance.euclidean(dt4, c2)\n",
    "print('Distância entre dt4 e c2:',dt4c2)\n",
    "\n",
    "dt4c3 = distance.euclidean(dt4, c3)\n",
    "print('Distância entre dt4 e c3:',dt4c3)"
   ]
  },
  {
   "cell_type": "code",
   "execution_count": 7,
   "metadata": {},
   "outputs": [
    {
     "name": "stdout",
     "output_type": "stream",
     "text": [
      "Distância entre dt5 e c1: 4.123105625617661\n",
      "Distância entre dt5 e c2: 6.4031242374328485\n",
      "Distância entre dt5 e c3: 4.242640687119285\n"
     ]
    }
   ],
   "source": [
    "#Cálculo das distâncias de dt5\n",
    "dt5c1 = distance.euclidean(dt5, c1)\n",
    "print('Distância entre dt5 e c1:', dt5c1)\n",
    "\n",
    "dt5c2 = distance.euclidean(dt5, c2)\n",
    "print('Distância entre dt5 e c2:',dt5c2)\n",
    "\n",
    "dt5c3 = distance.euclidean(dt5, c3)\n",
    "print('Distância entre dt5 e c3:',dt5c3)"
   ]
  },
  {
   "cell_type": "code",
   "execution_count": 8,
   "metadata": {},
   "outputs": [
    {
     "name": "stdout",
     "output_type": "stream",
     "text": [
      "Distância entre dt6 e c1: 2.0\n",
      "Distância entre dt6 e c2: 2.0\n",
      "Distância entre dt6 e c3: 1.0\n"
     ]
    }
   ],
   "source": [
    "#Cálculo das distâncias de dt6\n",
    "dt6c1 = distance.euclidean(dt6, c1)\n",
    "print('Distância entre dt6 e c1:', dt6c1)\n",
    "\n",
    "dt6c2 = distance.euclidean(dt6, c2)\n",
    "print('Distância entre dt6 e c2:',dt6c2)\n",
    "\n",
    "dt6c3 = distance.euclidean(dt6, c3)\n",
    "print('Distância entre dt6 e c3:',dt6c3)"
   ]
  },
  {
   "cell_type": "code",
   "execution_count": 9,
   "metadata": {},
   "outputs": [
    {
     "name": "stdout",
     "output_type": "stream",
     "text": [
      "Distância entre dt7 e c1: 3.605551275463989\n",
      "Distância entre dt7 e c2: 2.23606797749979\n",
      "Distância entre dt7 e c3: 1.4142135623730951\n"
     ]
    }
   ],
   "source": [
    "#Cálculo das distâncias de dt7\n",
    "dt7c1 = distance.euclidean(dt7, c1)\n",
    "print('Distância entre dt7 e c1:', dt7c1)\n",
    "\n",
    "dt7c2 = distance.euclidean(dt7, c2)\n",
    "print('Distância entre dt7 e c2:',dt7c2)\n",
    "\n",
    "dt7c3 = distance.euclidean(dt7, c3)\n",
    "print('Distância entre dt7 e c3:',dt7c3)"
   ]
  },
  {
   "cell_type": "code",
   "execution_count": 10,
   "metadata": {},
   "outputs": [
    {
     "name": "stdout",
     "output_type": "stream",
     "text": [
      "Distância entre dt8 e c1: 3.1622776601683795\n",
      "Distância entre dt8 e c2: 1.4142135623730951\n",
      "Distância entre dt8 e c3: 2.23606797749979\n"
     ]
    }
   ],
   "source": [
    "#Cálculo das distâncias de dt8\n",
    "dt8c1 = distance.euclidean(dt8, c1)\n",
    "print('Distância entre dt8 e c1:', dt8c1)\n",
    "\n",
    "dt8c2 = distance.euclidean(dt8, c2)\n",
    "print('Distância entre dt8 e c2:',dt8c2)\n",
    "\n",
    "dt8c3 = distance.euclidean(dt8, c3)\n",
    "print('Distância entre dt8 e c3:',dt8c3)"
   ]
  },
  {
   "cell_type": "code",
   "execution_count": 11,
   "metadata": {},
   "outputs": [
    {
     "name": "stdout",
     "output_type": "stream",
     "text": [
      "Distância entre dt9 e c1: 3.0\n",
      "Distância entre dt9 e c2: 1.0\n",
      "Distância entre dt9 e c3: 1.4142135623730951\n"
     ]
    }
   ],
   "source": [
    "#Cálculo das distâncias de dt9\n",
    "dt9c1 = distance.euclidean(dt9, c1)\n",
    "print('Distância entre dt9 e c1:', dt9c1)\n",
    "\n",
    "dt9c2 = distance.euclidean(dt9, c2)\n",
    "print('Distância entre dt9 e c2:',dt9c2)\n",
    "\n",
    "dt9c3 = distance.euclidean(dt9, c3)\n",
    "print('Distância entre dt9 e c3:',dt9c3)"
   ]
  },
  {
   "cell_type": "code",
   "execution_count": 12,
   "metadata": {},
   "outputs": [
    {
     "name": "stdout",
     "output_type": "stream",
     "text": [
      "O centróide ótimo para c1 é: (6.0, 7.0)\n",
      "O centróide ótimo para c2 é: (2.25, 3.0)\n",
      "O centróide ótimo para c3 é: (3.0, 4.75)\n"
     ]
    }
   ],
   "source": [
    "#Centróides ótimos\n",
    "m1a = (x1[4])/1\n",
    "m1b = (x2[4])/1\n",
    "\n",
    "c1opt = (m1a,m1b)\n",
    "print('O centróide ótimo para c1 é:',c1opt)\n",
    "\n",
    "m2a = (x1[0] + x1[1] + x1[7] + x1[8])/4\n",
    "m2b = (x2[0] + x2[1] + x2[7] + x2[8])/4\n",
    "\n",
    "c2opt = (m2a,m2b)\n",
    "print('O centróide ótimo para c2 é:',c2opt)\n",
    "\n",
    "m3a = (x1[2] + x1[3] + x1[5] + x1[6])/4\n",
    "m3b = (x2[2] + x2[3] + x2[5] + x2[6])/4\n",
    "\n",
    "c3opt = (m3a,m3b)\n",
    "print('O centróide ótimo para c3 é:',c3opt)"
   ]
  },
  {
   "cell_type": "code",
   "execution_count": 13,
   "metadata": {},
   "outputs": [
    {
     "data": {
      "image/png": "[encoded data removed]",
      "text/plain": [
       "<Figure size 360x360 with 1 Axes>"
      ]
     },
     "metadata": {
      "needs_background": "light"
     },
     "output_type": "display_data"
    }
   ],
   "source": [
    "fig = plt.figure(figsize=(5,5))\n",
    "plt.plot(x1, x2, 'bo')\n",
    "plt.show()"
   ]
  },
  {
   "cell_type": "markdown",
   "metadata": {},
   "source": [
    "# K-Means Sklearn"
   ]
  },
  {
   "cell_type": "code",
   "execution_count": 14,
   "metadata": {},
   "outputs": [
    {
     "name": "stderr",
     "output_type": "stream",
     "text": [
      "C:\\Users\\josin\\Anaconda3\\lib\\site-packages\\sklearn\\cluster\\k_means_.py:972: RuntimeWarning: Explicit initial center position passed: performing only one init in k-means instead of n_init=10\n",
      "  return_n_iter=True)\n"
     ]
    }
   ],
   "source": [
    "x = np.c_[x1,x2]\n",
    "\n",
    "km = KMeans(n_clusters=3, init=init_clusters)\n",
    "y_km = km.fit_predict(x)"
   ]
  },
  {
   "cell_type": "code",
   "execution_count": 15,
   "metadata": {},
   "outputs": [
    {
     "name": "stdout",
     "output_type": "stream",
     "text": [
      "Centroid 0: (6.00, 7.00)\n",
      "Centroid 1: (2.00, 3.00)\n",
      "Centroid 2: (3.25, 4.75)\n"
     ]
    }
   ],
   "source": [
    "for i in range(0,3):\n",
    "    print('Centroid %d: (%1.2f, %1.2f)' % (i,km.cluster_centers_[i][0],km.cluster_centers_[i][1]))"
   ]
  },
  {
   "cell_type": "code",
   "execution_count": 16,
   "metadata": {},
   "outputs": [
    {
     "name": "stdout",
     "output_type": "stream",
     "text": [
      "O modelo foi treinado em: 4 iterações.\n"
     ]
    }
   ],
   "source": [
    "print('O modelo foi treinado em:', km.n_iter_ ,'iterações.')"
   ]
  },
  {
   "cell_type": "code",
   "execution_count": 25,
   "metadata": {},
   "outputs": [
    {
     "data": {
      "text/plain": [
       "<matplotlib.legend.Legend at 0x20dff5a3688>"
      ]
     },
     "execution_count": 25,
     "metadata": {},
     "output_type": "execute_result"
    },
    {
     "data": {
      "image/png": "[encoded data removed]",
      "text/plain": [
       "<Figure size 432x288 with 1 Axes>"
      ]
     },
     "metadata": {
      "needs_background": "light"
     },
     "output_type": "display_data"
    }
   ],
   "source": [
    "plt.scatter(x[y_km == 0, 0], x[y_km == 0, 1], s=50, c='green', marker='s', edgecolor='black', label='cluster 1')\n",
    "plt.scatter(x[y_km == 1, 0], x[y_km == 1, 1], s=50, c='blue', marker='o', edgecolor='black', label='cluster 2')\n",
    "plt.scatter(x[y_km == 2, 0], x[y_km == 2, 1], s=50, c='red', marker='v', edgecolor='black', label='cluster 3')\n",
    "plt.scatter(km.cluster_centers_[:, 0], km.cluster_centers_[:, 1], s=250, marker='*', c='black', edgecolor='black', label='centroids')\n",
    "plt.legend(scatterpoints=1)"
   ]
  },
  {
   "cell_type": "code",
   "execution_count": null,
   "metadata": {},
   "outputs": [],
   "source": []
  },
  {
   "cell_type": "code",
   "execution_count": null,
   "metadata": {},
   "outputs": [],
   "source": []
  }
 ],
 "metadata": {
  "kernelspec": {
   "display_name": "Python 3",
   "language": "python",
   "name": "python3"
  },
  "language_info": {
   "codemirror_mode": {
    "name": "ipython",
    "version": 3
   },
   "file_extension": ".py",
   "mimetype": "text/x-python",
   "name": "python",
   "nbconvert_exporter": "python",
   "pygments_lexer": "ipython3",
   "version": "3.7.4"
  }
 },
 "nbformat": 4,
 "nbformat_minor": 2
}
