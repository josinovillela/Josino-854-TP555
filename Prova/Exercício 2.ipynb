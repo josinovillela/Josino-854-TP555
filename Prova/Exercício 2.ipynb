{
 "cells": [
  {
   "cell_type": "markdown",
   "metadata": {},
   "source": [
    "# Exercício 2"
   ]
  },
  {
   "cell_type": "markdown",
   "metadata": {},
   "source": [
    "Atributos:  \n",
    "Idade <= 30 (I<=30)  \n",
    "Renda = média (R=M)  \n",
    "Estudante = Sim (E=S)  \n",
    "Classificação de crédito = boa (CC=B)\n",
    "\n",
    "Classes:  \n",
    "Comprar o PC -> P(S) = Sim  \n",
    "Não comprar o PC -> P(N) = Não  \n",
    "\n",
    "Então, deve-se calcular:  \n",
    "P[S/I<=30, R=M, E=S, CC=B]=?  \n",
    "P[N/I<=30, R=M, E=S, CC=B]=?  \n",
    "\n",
    "Da tabela fornecida no enunciado, pode-se extrair as seguintes probabilidades:  \n",
    "P(I<=30,S) = 2/9  \n",
    "P(S) = 9/14  \n",
    "P(I<=30) = 5/14  \n",
    "P(R=M,S) = 4/9  \n",
    "P(R=M) = 6/14 = 3/7  \n",
    "P(E=S,S) = 6/9 = 2/3  \n",
    "P(E=S) = 7/14 = 1/2  \n",
    "P(CC=B,S) = 6/9 = 2/3  \n",
    "P(CC=B) = 8/14 = 4/7  \n",
    "\n",
    "Sabe-se que:  \n",
    "P(S/X) = (P(X/S).P(S))/P(X)  \n",
    "\n",
    "Então:  \n",
    "P[S/I<=30, R=M, E=S, CC=B] = (P(I<=30,S).P(R=M,S).P(E=S,S).P(CC=B,S).P(S))/(P(I<=30).P(R=M).P(E=S).P(CC=B))  \n",
    "P[S/I<=30, R=M, E=S, CC=B] = (2/9.4/9.2/3.2/3.9/14)/(5/14.3/7.1/2.4/7)  \n",
    "P[S/I<=30, R=M, E=S, CC=B] = 0,645  \n",
    "P[S/I<=30, R=M, E=S, CC=B] = 64,5%  \n",
    "\n",
    "P[N/I<=30, R=M, E=S, CC=B] = 1-P[S/I<=30, R=M, E=S, CC=B]  \n",
    "P[N/I<=30, R=M, E=S, CC=B] = 1-0,645  \n",
    "P[N/I<=30, R=M, E=S, CC=B] = 0,355  \n",
    "P[N/I<=30, R=M, E=S, CC=B] = 35,5%  \n",
    "\n",
    "Sendo assim, conclui-se que a chance desta pessoa comprar o PC é de 64,5%. Consequentemente, a chance desta pessoa não comprar o PC é de 35,5%.  \n",
    "\n",
    "Obs: Resolução também em PDF no repositório da prova."
   ]
  },
  {
   "cell_type": "code",
   "execution_count": null,
   "metadata": {},
   "outputs": [],
   "source": []
  }
 ],
 "metadata": {
  "kernelspec": {
   "display_name": "Python 3",
   "language": "python",
   "name": "python3"
  },
  "language_info": {
   "codemirror_mode": {
    "name": "ipython",
    "version": 3
   },
   "file_extension": ".py",
   "mimetype": "text/x-python",
   "name": "python",
   "nbconvert_exporter": "python",
   "pygments_lexer": "ipython3",
   "version": "3.7.4"
  }
 },
 "nbformat": 4,
 "nbformat_minor": 2
}
